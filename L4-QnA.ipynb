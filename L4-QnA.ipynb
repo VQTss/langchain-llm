{
 "cells": [
  {
   "cell_type": "markdown",
   "id": "52824b89-532a-4e54-87e9-1410813cd39e",
   "metadata": {},
   "source": [
    "# LangChain: Q&A over Documents\n",
    "\n",
    "An example might be a tool that would allow you to query a product catalog for items of interest."
   ]
  },
  {
   "cell_type": "code",
   "execution_count": 1,
   "id": "10c1f7b9",
   "metadata": {
    "height": 30
   },
   "outputs": [],
   "source": [
    "#pip install --upgrade langchain"
   ]
  },
  {
   "cell_type": "code",
   "execution_count": 2,
   "id": "b7ed03ed-1322-49e3-b2a2-33e94fb592ef",
   "metadata": {
    "height": 81,
    "tags": []
   },
   "outputs": [],
   "source": [
    "import os\n",
    "\n",
    "from dotenv import load_dotenv, find_dotenv\n",
    "_ = load_dotenv(find_dotenv()) # read local .env file"
   ]
  },
  {
   "cell_type": "markdown",
   "id": "ead635a0-42e2-46cc-a9f7-98419eceae6d",
   "metadata": {},
   "source": [
    "Note: LLM's do not always produce the same results. When executing the code in your notebook, you may get slightly different answers that those in the video."
   ]
  },
  {
   "cell_type": "code",
   "execution_count": 4,
   "id": "cc533037-0b8c-4995-96a3-45b35fa13c18",
   "metadata": {
    "height": 234
   },
   "outputs": [],
   "source": [
    "# account for deprecation of LLM model\n",
    "import datetime\n",
    "# Get the current date\n",
    "current_date = datetime.datetime.now().date()\n",
    "\n",
    "# Define the date after which the model should be set to \"gpt-3.5-turbo\"\n",
    "target_date = datetime.date(2024, 6, 12)\n",
    "\n",
    "# Set the model variable based on the current date\n",
    "if current_date > target_date:\n",
    "    llm_model = \"gpt-3.5-turbo\"\n",
    "else:\n",
    "    llm_model = \"gpt-3.5-turbo-0301\""
   ]
  },
  {
   "cell_type": "code",
   "execution_count": 5,
   "id": "974acf8e-8f88-42de-88f8-40a82cb58e8b",
   "metadata": {
    "height": 115
   },
   "outputs": [],
   "source": [
    "from langchain.chains import RetrievalQA\n",
    "from langchain.chat_models import ChatOpenAI\n",
    "from langchain.document_loaders import CSVLoader\n",
    "from langchain.vectorstores import DocArrayInMemorySearch\n",
    "from IPython.display import display, Markdown\n",
    "from langchain.llms import OpenAI"
   ]
  },
  {
   "cell_type": "code",
   "execution_count": 6,
   "id": "7249846e",
   "metadata": {
    "height": 47
   },
   "outputs": [],
   "source": [
    "file = 'OutdoorClothingCatalog_1000.csv'\n",
    "loader = CSVLoader(file_path=file)"
   ]
  },
  {
   "cell_type": "code",
   "execution_count": 7,
   "id": "5bfaba30",
   "metadata": {
    "height": 30
   },
   "outputs": [],
   "source": [
    "from langchain.indexes import VectorstoreIndexCreator"
   ]
  },
  {
   "cell_type": "code",
   "execution_count": 8,
   "id": "9b5ab657",
   "metadata": {
    "height": 30
   },
   "outputs": [],
   "source": [
    "#pip install docarray"
   ]
  },
  {
   "cell_type": "code",
   "execution_count": 9,
   "id": "9e200726",
   "metadata": {
    "height": 64
   },
   "outputs": [],
   "source": [
    "index = VectorstoreIndexCreator(\n",
    "    vectorstore_cls=DocArrayInMemorySearch\n",
    ").from_loaders([loader])"
   ]
  },
  {
   "cell_type": "code",
   "execution_count": 10,
   "id": "34562d81",
   "metadata": {
    "height": 47
   },
   "outputs": [],
   "source": [
    "query =\"Please list all your shirts with sun protection \\\n",
    "in a table in markdown and summarize each one.\""
   ]
  },
  {
   "cell_type": "markdown",
   "id": "a9a4c615-d6e4-4dd6-bc53-a9c46df7276c",
   "metadata": {},
   "source": [
    "**Note**:\n",
    "- The notebook uses `langchain==0.0.179` and `openai==0.27.7`\n",
    "- For these library versions, `VectorstoreIndexCreator` uses `text-davinci-003` as the base model, which has been deprecated since 1 January 2024.\n",
    "- The replacement model, `gpt-3.5-turbo-instruct` will be used instead for the `query`.\n",
    "- The `response` format might be different than the video because of this replacement model."
   ]
  },
  {
   "cell_type": "code",
   "execution_count": 11,
   "id": "cfd0cc37",
   "metadata": {
    "height": 98
   },
   "outputs": [],
   "source": [
    "llm_replacement_model = OpenAI(temperature=0, \n",
    "                               model='gpt-3.5-turbo-instruct')\n",
    "\n",
    "response = index.query(query, \n",
    "                       llm = llm_replacement_model)"
   ]
  },
  {
   "cell_type": "code",
   "execution_count": 37,
   "id": "871ccdef",
   "metadata": {
    "height": 30
   },
   "outputs": [
    {
     "data": {
      "text/plain": [
       "OpenAI(cache=None, verbose=False, callbacks=None, callback_manager=None, client=<class 'openai.api_resources.completion.Completion'>, model_name='gpt-3.5-turbo-instruct', temperature=0.0, max_tokens=256, top_p=1, frequency_penalty=0, presence_penalty=0, n=1, best_of=1, model_kwargs={}, openai_api_key=None, openai_api_base=None, openai_organization=None, batch_size=20, request_timeout=None, logit_bias={}, max_retries=6, streaming=False, allowed_special=set(), disallowed_special='all')"
      ]
     },
     "execution_count": 37,
     "metadata": {},
     "output_type": "execute_result"
    }
   ],
   "source": [
    "llm_replacement_model"
   ]
  },
  {
   "cell_type": "code",
   "execution_count": 38,
   "id": "f908da7c",
   "metadata": {
    "height": 30
   },
   "outputs": [
    {
     "data": {
      "text/plain": [
       "'| Shirt Name                           | Description                                                                                                                                                                                                                                                                                                                                                                                                                                                                                                                                                                                                                                                                                                                                                                                                                                                                                                                                                                                                                                                                                                                                                                                                                                                                                                                                                                                                                                                                                                                                                                                                                                                                                                                                                                                                                                                                                                                                                                                                                                                                                                                                                                                                                                                                                                                                                                                                                                                                                                                                                                                                                                                                                                                                                                                                                                                                                                                                                                                                                                                                                                                                                                                                                                                                                                                                                                                                                                                                                                                                                                                                                                                                                                                                                                                                                                                                                                                                                                                                                                                                                                                                                                                                                                                                                                                                                                                                                                                                                                                                                                                                                                                                                                                                                                                                                                                                                                                                                                                                                                                                                                                                                                                                                                                                                                                                                                                                                                                                                                                                                                                                                                                                                                                                                                                                                                                                                                                                                                                                                                                                                                                                                                                                                                                                                                                                                                                                                                                                                                                                                                                                                                                                                                                                                                                                                                                                                                                                                                                                                                                                                                                                                                                                                                                                                                                                                                                                                                                                                                                                                                                                                                                                                                                                                                                                                                                                                                                                                                                                                                                                                                                                                                                                                                                                                                                                                                                                                                                                                                                                                                                                                                                                                                                                                                                                                                                                                                                                                                                                                                                                                                                                                                                                                                                                                                                                                                                                                                                                                                                                                                                                                                                                                                                                                                                                                                                                                                                                                                                                                                                                                                                                                                                                                                                                                                                                                                                                                                                                                                                                                                                                                                                                                                                                                                                                                                                                                                                                                                                                                                                                                                                                                                                                                                                                                                                                                                                                                                                                                                                                                                                                                                                                                                                                                                                                                                                                                                                                                                                                                                                                                                                                                                                                                                                                                                                                                                                                                                                                                                                                                                                                                                                                                                                                                                                                                                                                                                                                                                                                                                                                                                                                                                                                                                                                                                                                '"
      ]
     },
     "execution_count": 38,
     "metadata": {},
     "output_type": "execute_result"
    }
   ],
   "source": [
    "response"
   ]
  },
  {
   "cell_type": "code",
   "execution_count": 12,
   "id": "ae21f1ff",
   "metadata": {
    "height": 30
   },
   "outputs": [
    {
     "data": {
      "text/markdown": [
       "\n",
       "\n",
       "| Name | Description | Sun Protection Rating |\n",
       "| --- | --- | --- |\n",
       "| Men's Tropical Plaid Short-Sleeve Shirt | Made of 100% polyester, UPF 50+ rating, wrinkle-resistant, front and back cape venting, two front bellows pockets | SPF 50+, blocks 98% of harmful UV rays |\n",
       "| Men's Plaid Tropic Shirt, Short-Sleeve | Made of 52% polyester and 48% nylon, UPF 50+ rating, SunSmart technology, wrinkle-free, front and back cape venting, two front bellows pockets | SPF 50+, blocks 98% of harmful UV rays |\n",
       "| Men's TropicVibe Shirt, Short-Sleeve | Made of 71% nylon and 29% polyester, UPF 50+ rating, front and back cape venting, two front bellows pockets | SPF 50+, blocks 98% of harmful UV rays |\n",
       "| Sun Shield Shirt | Made of 78% nylon and 22% Lycra Xtra Life fiber, UPF 50+ rating, moisture-wicking, abrasion-resistant, fits over swimsuit | SPF 50+, blocks 98% of harmful UV rays |"
      ],
      "text/plain": [
       "<IPython.core.display.Markdown object>"
      ]
     },
     "metadata": {},
     "output_type": "display_data"
    }
   ],
   "source": [
    "display(Markdown(response))"
   ]
  },
  {
   "cell_type": "markdown",
   "id": "2534597e-4b0c-4563-a208-e2dd91064438",
   "metadata": {},
   "source": [
    "## Step By Step"
   ]
  },
  {
   "cell_type": "code",
   "execution_count": 13,
   "id": "631396c6",
   "metadata": {
    "height": 47
   },
   "outputs": [],
   "source": [
    "from langchain.document_loaders import CSVLoader\n",
    "loader = CSVLoader(file_path=file)"
   ]
  },
  {
   "cell_type": "code",
   "execution_count": 14,
   "id": "6c2164b5",
   "metadata": {
    "height": 30
   },
   "outputs": [],
   "source": [
    "docs = loader.load()"
   ]
  },
  {
   "cell_type": "code",
   "execution_count": 39,
   "id": "a3ae4862",
   "metadata": {
    "height": 30
   },
   "outputs": [
    {
     "data": {
      "text/plain": [
       "[Document(page_content=': 255\\nname: Sun Shield Shirt by\\ndescription: \"Block the sun, not the fun – our high-performance sun shirt is guaranteed to protect from harmful UV rays. \\n\\nSize & Fit: Slightly Fitted: Softly shapes the body. Falls at hip.\\n\\nFabric & Care: 78% nylon, 22% Lycra Xtra Life fiber. UPF 50+ rated – the highest rated sun protection possible. Handwash, line dry.\\n\\nAdditional Features: Wicks moisture for quick-drying comfort. Fits comfortably over your favorite swimsuit. Abrasion resistant for season after season of wear. Imported.\\n\\nSun Protection That Won\\'t Wear Off\\nOur high-performance fabric provides SPF 50+ sun protection, blocking 98% of the sun\\'s harmful rays. This fabric is recommended by The Skin Cancer Foundation as an effective UV protectant.', metadata={'source': 'OutdoorClothingCatalog_1000.csv', 'row': 255}),\n",
       " Document(page_content=\": 374\\nname: Men's Plaid Tropic Shirt, Short-Sleeve\\ndescription: Our Ultracomfortable sun protection is rated to UPF 50+, helping you stay cool and dry. Originally designed for fishing, this lightest hot-weather shirt offers UPF 50+ coverage and is great for extended travel. SunSmart technology blocks 98% of the sun's harmful UV rays, while the high-performance fabric is wrinkle-free and quickly evaporates perspiration. Made with 52% polyester and 48% nylon, this shirt is machine washable and dryable. Additional features include front and back cape venting, two front bellows pockets and an imported design. With UPF 50+ coverage, you can limit sun exposure and feel secure with the highest rated sun protection available.\", metadata={'source': 'OutdoorClothingCatalog_1000.csv', 'row': 374}),\n",
       " Document(page_content=\": 535\\nname: Men's TropicVibe Shirt, Short-Sleeve\\ndescription: This Men’s sun-protection shirt with built-in UPF 50+ has the lightweight feel you want and the coverage you need when the air is hot and the UV rays are strong. Size & Fit: Traditional Fit: Relaxed through the chest, sleeve and waist. Fabric & Care: Shell: 71% Nylon, 29% Polyester. Lining: 100% Polyester knit mesh. UPF 50+ rated – the highest rated sun protection possible. Machine wash and dry. Additional Features: Wrinkle resistant. Front and back cape venting lets in cool breezes. Two front bellows pockets. Imported.\\n\\nSun Protection That Won't Wear Off: Our high-performance fabric provides SPF 50+ sun protection, blocking 98% of the sun's harmful rays.\", metadata={'source': 'OutdoorClothingCatalog_1000.csv', 'row': 535}),\n",
       " Document(page_content=\": 618\\nname: Men's Tropical Plaid Short-Sleeve Shirt\\ndescription: Our lightest hot-weather shirt is rated UPF 50+ for superior protection from the sun's UV rays. With a traditional fit that is relaxed through the chest, sleeve, and waist, this fabric is made of 100% polyester and is wrinkle-resistant. With front and back cape venting that lets in cool breezes and two front bellows pockets, this shirt is imported and provides the highest rated sun protection possible. \\n\\nSun Protection That Won't Wear Off. Our high-performance fabric provides SPF 50+ sun protection, blocking 98% of the sun's harmful rays.\", metadata={'source': 'OutdoorClothingCatalog_1000.csv', 'row': 618})]"
      ]
     },
     "execution_count": 39,
     "metadata": {},
     "output_type": "execute_result"
    }
   ],
   "source": [
    "docs"
   ]
  },
  {
   "cell_type": "code",
   "execution_count": 15,
   "id": "4a977f44",
   "metadata": {
    "height": 30
   },
   "outputs": [
    {
     "data": {
      "text/plain": [
       "Document(page_content=\": 0\\nname: Women's Campside Oxfords\\ndescription: This ultracomfortable lace-to-toe Oxford boasts a super-soft canvas, thick cushioning, and quality construction for a broken-in feel from the first time you put them on. \\n\\nSize & Fit: Order regular shoe size. For half sizes not offered, order up to next whole size. \\n\\nSpecs: Approx. weight: 1 lb.1 oz. per pair. \\n\\nConstruction: Soft canvas material for a broken-in feel and look. Comfortable EVA innersole with Cleansport NXT® antimicrobial odor control. Vintage hunt, fish and camping motif on innersole. Moderate arch contour of innersole. EVA foam midsole for cushioning and support. Chain-tread-inspired molded rubber outsole with modified chain-tread pattern. Imported. \\n\\nQuestions? Please contact us for any inquiries.\", metadata={'source': 'OutdoorClothingCatalog_1000.csv', 'row': 0})"
      ]
     },
     "execution_count": 15,
     "metadata": {},
     "output_type": "execute_result"
    }
   ],
   "source": [
    "docs[0]"
   ]
  },
  {
   "cell_type": "code",
   "execution_count": 16,
   "id": "e875693a",
   "metadata": {
    "height": 47
   },
   "outputs": [],
   "source": [
    "from langchain.embeddings import OpenAIEmbeddings\n",
    "embeddings = OpenAIEmbeddings()"
   ]
  },
  {
   "cell_type": "code",
   "execution_count": 40,
   "id": "779bec75",
   "metadata": {
    "height": 30
   },
   "outputs": [],
   "source": [
    "embed = embeddings.embed_query(\"Hi my name is Harrison\")"
   ]
  },
  {
   "cell_type": "code",
   "execution_count": 41,
   "id": "a7dcdee1",
   "metadata": {
    "height": 30
   },
   "outputs": [
    {
     "data": {
      "text/plain": [
       "[-0.02199048176407814,\n",
       " 0.006746508646756411,\n",
       " -0.018174780532717705,\n",
       " -0.03918623551726341,\n",
       " -0.01404528971761465,\n",
       " 0.01699492707848549,\n",
       " 0.0021918308921158314,\n",
       " -0.007957742549479008,\n",
       " 0.012877986766397953,\n",
       " 0.0002712331770453602,\n",
       " 0.0037341141141951084,\n",
       " 0.008139741607010365,\n",
       " -0.014421839267015457,\n",
       " -0.0025856387801468372,\n",
       " 0.004568798467516899,\n",
       " -0.01639244705438614,\n",
       " 0.028617748990654945,\n",
       " -0.01969352923333645,\n",
       " 0.03326185792684555,\n",
       " -0.021024003624916077,\n",
       " -0.011855028569698334,\n",
       " -0.019781392067670822,\n",
       " 0.012350818142294884,\n",
       " -0.0038878717459738255,\n",
       " -0.01498666312545538,\n",
       " -0.007800846826285124,\n",
       " 0.017961403355002403,\n",
       " 0.00020847497216891497,\n",
       " 0.02480204962193966,\n",
       " -0.027538307011127472,\n",
       " -0.0007632968481630087,\n",
       " -0.0019204015843570232,\n",
       " 0.007549813948571682,\n",
       " -0.04322786256670952,\n",
       " -0.016404999420046806,\n",
       " -0.024977771565318108,\n",
       " -0.0014881542883813381,\n",
       " -0.01945504918694496,\n",
       " 0.01427121926099062,\n",
       " -0.0191287063062191,\n",
       " 0.024312535300850868,\n",
       " -0.02034621499478817,\n",
       " -0.005507033783942461,\n",
       " 0.006134616211056709,\n",
       " -0.016292033717036247,\n",
       " 0.013894670642912388,\n",
       " -0.01836305484175682,\n",
       " -0.030651114881038666,\n",
       " -0.017346372827887535,\n",
       " 0.01720830425620079,\n",
       " 0.002526018535718322,\n",
       " 0.0073301601223647594,\n",
       " -0.009771455079317093,\n",
       " -0.006558234337717295,\n",
       " 0.005651378072798252,\n",
       " 0.025542596355080605,\n",
       " 0.023935986682772636,\n",
       " 0.021086761727929115,\n",
       " -0.016568170860409737,\n",
       " -0.010260969400405884,\n",
       " 0.015061973594129086,\n",
       " 0.008039328269660473,\n",
       " -0.0163296889513731,\n",
       " 0.02104910835623741,\n",
       " -0.020434077829122543,\n",
       " 0.01891532726585865,\n",
       " 0.005871031433343887,\n",
       " -0.003539563622325659,\n",
       " 0.0026876209303736687,\n",
       " 0.044959988445043564,\n",
       " 0.007719261106103659,\n",
       " 0.0037372522056102753,\n",
       " -0.0009672610904090106,\n",
       " 0.005174415186047554,\n",
       " 0.006219339556992054,\n",
       " 0.019429946318268776,\n",
       " -0.010468071326613426,\n",
       " 0.015036869794130325,\n",
       " -0.007091679144650698,\n",
       " -0.01289053913205862,\n",
       " 0.0026891897432506084,\n",
       " -0.03045029006898403,\n",
       " -0.0006538621964864433,\n",
       " 0.01639244705438614,\n",
       " 0.042374350130558014,\n",
       " 0.0028602059464901686,\n",
       " -0.01025469321757555,\n",
       " 0.03233303502202034,\n",
       " -0.03537053242325783,\n",
       " -0.024940118193626404,\n",
       " 0.013166675344109535,\n",
       " 0.011472202837467194,\n",
       " -0.017007477581501007,\n",
       " 0.01374405063688755,\n",
       " -0.01688196137547493,\n",
       " 0.01341770775616169,\n",
       " -0.017057685181498528,\n",
       " 0.023333506658673286,\n",
       " 0.008503738790750504,\n",
       " -0.008804978802800179,\n",
       " -0.013568327762186527,\n",
       " -0.0010213900823146105,\n",
       " -0.02132524363696575,\n",
       " -0.0079702939838171,\n",
       " -0.007204643916338682,\n",
       " 0.007361539639532566,\n",
       " -0.0017368338303640485,\n",
       " 0.0018560744356364012,\n",
       " 0.011917786672711372,\n",
       " 0.009131321683526039,\n",
       " 0.007022644858807325,\n",
       " 0.0070351967588067055,\n",
       " 0.00417655985802412,\n",
       " -0.03496888279914856,\n",
       " -0.013995083048939705,\n",
       " -0.0010464933002367616,\n",
       " -0.012589299120008945,\n",
       " -0.01080069039016962,\n",
       " 0.0029935671482235193,\n",
       " -0.022028135135769844,\n",
       " 0.012363369576632977,\n",
       " 0.011145859956741333,\n",
       " -0.0029402226209640503,\n",
       " -0.007160712964832783,\n",
       " 0.016191620379686356,\n",
       " 0.01627948321402073,\n",
       " -0.0410187728703022,\n",
       " -0.005783169995993376,\n",
       " 0.03052559867501259,\n",
       " -0.0035081845708191395,\n",
       " 0.009784006513655186,\n",
       " -0.010097797960042953,\n",
       " 0.009451388381421566,\n",
       " 0.00698499009013176,\n",
       " -0.012093509547412395,\n",
       " 0.026960931718349457,\n",
       " -0.00041459649219177663,\n",
       " 0.024764394387602806,\n",
       " -0.016844306141138077,\n",
       " -0.011610271409153938,\n",
       " 0.007989121600985527,\n",
       " 0.02556769922375679,\n",
       " 0.011528685688972473,\n",
       " -0.016292033717036247,\n",
       " -0.002643690211698413,\n",
       " 0.006533131003379822,\n",
       " -0.0006067935610190034,\n",
       " 0.0016929029952734709,\n",
       " 0.003420323133468628,\n",
       " 0.01639244705438614,\n",
       " 0.0037403900641947985,\n",
       " 0.010875999927520752,\n",
       " 0.020710213109850883,\n",
       " -0.021739447489380836,\n",
       " 0.013392604887485504,\n",
       " 0.008428429253399372,\n",
       " 0.001777626690454781,\n",
       " 0.002758223796263337,\n",
       " -0.0051461742259562016,\n",
       " 0.0017587991897016764,\n",
       " -0.0055038961581885815,\n",
       " 0.0006573923747055233,\n",
       " 0.015061973594129086,\n",
       " -0.021563725546002388,\n",
       " 0.0047288318164646626,\n",
       " 0.04006484895944595,\n",
       " 0.004116939380764961,\n",
       " -0.006583337672054768,\n",
       " -0.018438365310430527,\n",
       " 0.004669211804866791,\n",
       " -0.002773913322016597,\n",
       " 0.008459808304905891,\n",
       " -0.023835573345422745,\n",
       " -0.001292034867219627,\n",
       " 0.006081271916627884,\n",
       " 0.003646252676844597,\n",
       " -8.771441935095936e-05,\n",
       " 0.008679461665451527,\n",
       " -0.035270120948553085,\n",
       " -0.021425656974315643,\n",
       " -0.03173055872321129,\n",
       " 0.01610375940799713,\n",
       " 0.02451336197555065,\n",
       " 0.023986192420125008,\n",
       " 0.005459965206682682,\n",
       " -0.0005899273091927171,\n",
       " 0.015965690836310387,\n",
       " -0.015425970777869225,\n",
       " 0.009602008387446404,\n",
       " -0.016643481329083443,\n",
       " 0.0027033104561269283,\n",
       " 0.036048322916030884,\n",
       " 0.008622979745268822,\n",
       " 0.015815071761608124,\n",
       " -0.6840144395828247,\n",
       " -0.009689869359135628,\n",
       " -0.001363422372378409,\n",
       " 0.010712828487157822,\n",
       " 0.017358923330903053,\n",
       " 0.03273468837141991,\n",
       " -0.000273782730801031,\n",
       " 0.031077871099114418,\n",
       " 0.0024099156726151705,\n",
       " 0.0239108819514513,\n",
       " -0.013380052521824837,\n",
       " 0.03880968317389488,\n",
       " -0.013706395402550697,\n",
       " 0.0021102451719343662,\n",
       " 0.00262643164023757,\n",
       " -0.015526384115219116,\n",
       " 0.003878458170220256,\n",
       " -0.027362585067749023,\n",
       " 0.00034615083131939173,\n",
       " 0.004399351309984922,\n",
       " -0.009602008387446404,\n",
       " 0.03062601201236248,\n",
       " -0.016643481329083443,\n",
       " -0.013806808739900589,\n",
       " 0.01946759968996048,\n",
       " 0.006172270979732275,\n",
       " 0.007593744900077581,\n",
       " -0.015388315543532372,\n",
       " -0.009005804546177387,\n",
       " 0.009420009329915047,\n",
       " -0.015538935549557209,\n",
       " 0.014020186848938465,\n",
       " 0.005265414714813232,\n",
       " 0.00504262326285243,\n",
       " 0.04716907814145088,\n",
       " -0.001670937635935843,\n",
       " 0.014308874495327473,\n",
       " 0.02618272975087166,\n",
       " 0.008434705436229706,\n",
       " 0.04516081511974335,\n",
       " -0.013543223962187767,\n",
       " -0.008892839774489403,\n",
       " 0.013681292533874512,\n",
       " -0.005469379015266895,\n",
       " -0.010549657046794891,\n",
       " 0.02683541551232338,\n",
       " -0.020597249269485474,\n",
       " 0.00401338841766119,\n",
       " 0.013894670642912388,\n",
       " -0.009708696976304054,\n",
       " -0.010825793258845806,\n",
       " -0.008233878761529922,\n",
       " -0.013342398218810558,\n",
       " -0.004744521342217922,\n",
       " -1.8594575522001833e-05,\n",
       " -0.011428272351622581,\n",
       " 0.02595680020749569,\n",
       " -0.004367972258478403,\n",
       " 0.010562208481132984,\n",
       " 0.008528842590749264,\n",
       " -0.012024475261569023,\n",
       " 0.016693687066435814,\n",
       " -0.017735473811626434,\n",
       " 0.027287274599075317,\n",
       " -0.016568170860409737,\n",
       " 0.01413315162062645,\n",
       " -0.018162230029702187,\n",
       " -0.019643323495984077,\n",
       " 0.012752470560371876,\n",
       " -0.007920087315142155,\n",
       " 0.003539563622325659,\n",
       " -0.0034077714662998915,\n",
       " -0.018099471926689148,\n",
       " 0.015325557440519333,\n",
       " 0.004336593206971884,\n",
       " 0.020848281681537628,\n",
       " -0.0006703362450934947,\n",
       " -0.014070393517613411,\n",
       " -0.012331990525126457,\n",
       " 0.023107577115297318,\n",
       " 0.01113330852240324,\n",
       " -0.0009068563231267035,\n",
       " -0.007116782478988171,\n",
       " -0.022341927513480186,\n",
       " 0.021312691271305084,\n",
       " -0.013493017293512821,\n",
       " -0.026358453556895256,\n",
       " 0.0008362532826140523,\n",
       " 0.004744521342217922,\n",
       " 0.003953767940402031,\n",
       " 0.02040897309780121,\n",
       " 0.0056105852127075195,\n",
       " 0.009495318867266178,\n",
       " -0.0024067778140306473,\n",
       " -0.012815228663384914,\n",
       " 0.007725537288933992,\n",
       " -0.017132993787527084,\n",
       " -0.0011720097390934825,\n",
       " -0.004132628906518221,\n",
       " -0.01011662557721138,\n",
       " 0.023007163777947426,\n",
       " 0.002593483543023467,\n",
       " 0.0059055485762655735,\n",
       " 0.009658490307629108,\n",
       " 0.002232623752206564,\n",
       " 0.0001910203427542001,\n",
       " -0.02314523234963417,\n",
       " 0.0187396053224802,\n",
       " 0.00765650300309062,\n",
       " -0.00746195251122117,\n",
       " 0.008146016858518124,\n",
       " 0.0002000418317038566,\n",
       " -0.02040897309780121,\n",
       " 0.026960931718349457,\n",
       " 0.010882276110351086,\n",
       " -0.026584383100271225,\n",
       " 0.024111708626151085,\n",
       " 0.0070351967588067055,\n",
       " 0.002601328305900097,\n",
       " -0.03650018200278282,\n",
       " 0.016530515626072884,\n",
       " 0.03243345022201538,\n",
       " 0.009620835073292255,\n",
       " -0.017459336668252945,\n",
       " 0.012451231479644775,\n",
       " 0.030475392937660217,\n",
       " -0.014660320244729519,\n",
       " -0.023823020979762077,\n",
       " -0.03409026563167572,\n",
       " 0.018162230029702187,\n",
       " 0.031429316848516464,\n",
       " -0.018890224397182465,\n",
       " 0.007945191115140915,\n",
       " 0.0029574811924248934,\n",
       " 0.011861303821206093,\n",
       " -0.01217509526759386,\n",
       " 0.011440823785960674,\n",
       " 0.01427121926099062,\n",
       " 0.006379373371601105,\n",
       " 0.000880184059496969,\n",
       " -0.036048322916030884,\n",
       " 0.009708696976304054,\n",
       " -0.019932011142373085,\n",
       " 0.01720830425620079,\n",
       " -0.013505569659173489,\n",
       " -0.0330861359834671,\n",
       " 0.01237592101097107,\n",
       " -0.005165001843124628,\n",
       " -0.0070100934244692326,\n",
       " -0.016254380345344543,\n",
       " -0.016894513741135597,\n",
       " 0.0032383243087679148,\n",
       " -0.012137440033257008,\n",
       " -0.005290518049150705,\n",
       " -0.007072851527482271,\n",
       " -0.005127346608787775,\n",
       " 0.007719261106103659,\n",
       " -0.009162700735032558,\n",
       " -0.006715129595249891,\n",
       " -0.01852622628211975,\n",
       " -0.003012394765391946,\n",
       " 0.01654306799173355,\n",
       " -0.012903090566396713,\n",
       " 0.0020804351661354303,\n",
       " 0.0005824747495353222,\n",
       " -0.013756602071225643,\n",
       " -0.00435542082414031,\n",
       " 0.020823178812861443,\n",
       " -0.02182731032371521,\n",
       " -0.006972438655793667,\n",
       " -0.01231316290795803,\n",
       " -0.004926520399749279,\n",
       " -0.01482349168509245,\n",
       " -0.014421839267015457,\n",
       " 0.011076826602220535,\n",
       " 0.008698289282619953,\n",
       " -0.004976727068424225,\n",
       " -0.021802205592393875,\n",
       " 0.011039171367883682,\n",
       " -0.012137440033257008,\n",
       " 0.01720830425620079,\n",
       " 0.0060844095423817635,\n",
       " -0.007800846826285124,\n",
       " 0.013794257305562496,\n",
       " 0.010430416092276573,\n",
       " 0.008271533995866776,\n",
       " 0.0008323309011757374,\n",
       " 0.02535432204604149,\n",
       " 0.0025809318758547306,\n",
       " 0.0019298152765259147,\n",
       " 0.009319595992565155,\n",
       " 0.004189111292362213,\n",
       " -0.025479838252067566,\n",
       " 0.017333820462226868,\n",
       " -0.002551121637225151,\n",
       " 0.0020239525474607944,\n",
       " 0.004223628435283899,\n",
       " -0.003982009366154671,\n",
       " 0.01715809851884842,\n",
       " 0.020082630217075348,\n",
       " 0.013229433447122574,\n",
       " 0.003975733183324337,\n",
       " 0.027086447924375534,\n",
       " -0.023107577115297318,\n",
       " 0.019505254924297333,\n",
       " -0.025668112561106682,\n",
       " -0.009250561706721783,\n",
       " -0.010028763674199581,\n",
       " -0.0010676742531359196,\n",
       " 0.012739919126033783,\n",
       " 0.00891166739165783,\n",
       " -0.027914857491850853,\n",
       " -0.0034360126592218876,\n",
       " -0.017396578565239906,\n",
       " 0.013530672527849674,\n",
       " 0.013869566842913628,\n",
       " -0.028617748990654945,\n",
       " 0.03062601201236248,\n",
       " -0.0280905794352293,\n",
       " 0.0052183461375534534,\n",
       " 0.022028135135769844,\n",
       " 0.003081428585574031,\n",
       " -0.0041483184322714806,\n",
       " 0.0003061424649786204,\n",
       " -0.015036869794130325,\n",
       " 0.010304899886250496,\n",
       " 0.0314544215798378,\n",
       " 0.04287641867995262,\n",
       " 0.006928507704287767,\n",
       " -0.0029496364295482635,\n",
       " 0.005930651910603046,\n",
       " 0.02270592376589775,\n",
       " -0.017195751890540123,\n",
       " -0.0019407980144023895,\n",
       " 0.010882276110351086,\n",
       " 0.01782333478331566,\n",
       " -0.003800010308623314,\n",
       " -0.005918100476264954,\n",
       " 0.031529732048511505,\n",
       " -0.0059432038106024265,\n",
       " -0.005742377135902643,\n",
       " -0.017245959490537643,\n",
       " 0.01863919198513031,\n",
       " -0.025316666811704636,\n",
       " 0.024927565827965736,\n",
       " 0.0002543669252190739,\n",
       " -0.008566496893763542,\n",
       " -0.004926520399749279,\n",
       " -0.010656345635652542,\n",
       " 0.04019036516547203,\n",
       " -0.01234454195946455,\n",
       " -0.0017180063296109438,\n",
       " -0.006395062897354364,\n",
       " -0.020208148285746574,\n",
       " 0.01410804782062769,\n",
       " -0.02578107826411724,\n",
       " -0.002307933522388339,\n",
       " 0.009068562649190426,\n",
       " 0.017471889033913612,\n",
       " 0.027287274599075317,\n",
       " -0.004123215097934008,\n",
       " 0.01732126995921135,\n",
       " 0.0065017519518733025,\n",
       " -0.021375451236963272,\n",
       " 0.0012473196256905794,\n",
       " 0.0018701950320973992,\n",
       " -0.020860832184553146,\n",
       " 0.011051722802221775,\n",
       " 0.000983735080808401,\n",
       " -0.00402907794341445,\n",
       " 0.007618848234415054,\n",
       " -0.026032110676169395,\n",
       " 0.021149521693587303,\n",
       " -0.02111186645925045,\n",
       " 0.016530515626072884,\n",
       " 0.0026640864089131355,\n",
       " 0.015200041234493256,\n",
       " -0.008007949218153954,\n",
       " -0.014246116392314434,\n",
       " -0.0016442653723061085,\n",
       " -0.005321897100657225,\n",
       " -0.038408033549785614,\n",
       " 0.011735787615180016,\n",
       " 0.0078071230091154575,\n",
       " -0.004939071834087372,\n",
       " -0.04172166436910629,\n",
       " -0.02535432204604149,\n",
       " 0.003906699363142252,\n",
       " -0.02683541551232338,\n",
       " 0.015626797452569008,\n",
       " -0.012382197193801403,\n",
       " 0.03414047136902809,\n",
       " 0.014208461157977581,\n",
       " -0.017032582312822342,\n",
       " -0.000776240776758641,\n",
       " 0.026534175500273705,\n",
       " 0.04388054832816124,\n",
       " -0.004477798938751221,\n",
       " 0.0242999829351902,\n",
       " 0.0025071909185498953,\n",
       " 0.0002622116880957037,\n",
       " 0.013241984881460667,\n",
       " -0.005375241860747337,\n",
       " -0.016041001304984093,\n",
       " 0.004393075592815876,\n",
       " -0.009338423609733582,\n",
       " -0.011227445676922798,\n",
       " -0.0005816902848891914,\n",
       " 0.0033293236047029495,\n",
       " -0.024601222947239876,\n",
       " 0.012357094325125217,\n",
       " -0.006078133825212717,\n",
       " -0.021513517946004868,\n",
       " 0.014873698353767395,\n",
       " -0.029822707176208496,\n",
       " 0.0008911667391657829,\n",
       " -0.026534175500273705,\n",
       " 0.005889859050512314,\n",
       " 0.02276868373155594,\n",
       " -0.020521938800811768,\n",
       " -0.0026076040230691433,\n",
       " -0.008409601636230946,\n",
       " -0.039336852729320526,\n",
       " 0.004593901801854372,\n",
       " 0.12411066144704819,\n",
       " 0.003448564326390624,\n",
       " -0.007625123951584101,\n",
       " -0.004986140877008438,\n",
       " 0.0011421996168792248,\n",
       " 0.01782333478331566,\n",
       " -0.013781705871224403,\n",
       " -0.031705453991889954,\n",
       " 0.0060593062080442905,\n",
       " -0.012783849611878395,\n",
       " 0.0036650800611823797,\n",
       " -0.010681449435651302,\n",
       " -0.008867736905813217,\n",
       " 0.007738088723272085,\n",
       " -0.01344281155616045,\n",
       " -0.0043962132185697556,\n",
       " 0.0009751058532856405,\n",
       " -0.022580407559871674,\n",
       " 0.0008103655418381095,\n",
       " -0.014233564957976341,\n",
       " -0.011585167609155178,\n",
       " -0.00011002300743712112,\n",
       " 0.0009860885329544544,\n",
       " 0.02200303226709366,\n",
       " 0.021475862711668015,\n",
       " -0.022693373262882233,\n",
       " 0.027914857491850853,\n",
       " 0.012545368634164333,\n",
       " 0.015538935549557209,\n",
       " -0.012212749570608139,\n",
       " -0.002493070438504219,\n",
       " 0.0009751058532856405,\n",
       " 0.01484859548509121,\n",
       " -0.00953924935311079,\n",
       " 0.008051879703998566,\n",
       " 0.014949008822441101,\n",
       " -0.006388787180185318,\n",
       " 0.013794257305562496,\n",
       " 0.008390774019062519,\n",
       " -0.01404528971761465,\n",
       " 0.01102661993354559,\n",
       " 0.02859264612197876,\n",
       " -0.004160870332270861,\n",
       " -0.009972281754016876,\n",
       " 0.010304899886250496,\n",
       " 0.007198368199169636,\n",
       " -0.009005804546177387,\n",
       " 0.007788295391947031,\n",
       " 0.0006405261228792369,\n",
       " -0.0035144605208188295,\n",
       " 0.01985670067369938,\n",
       " -0.0010135453194379807,\n",
       " 0.007072851527482271,\n",
       " 0.0014042152324691415,\n",
       " -0.0061314781196415424,\n",
       " -0.0017446785932406783,\n",
       " -0.005758066661655903,\n",
       " -0.022028135135769844,\n",
       " -0.002673500217497349,\n",
       " 0.009514146484434605,\n",
       " -0.003680769819766283,\n",
       " -0.023735160008072853,\n",
       " 0.019881805405020714,\n",
       " -0.006551958154886961,\n",
       " -0.025115840137004852,\n",
       " -0.032634276896715164,\n",
       " -0.017572302371263504,\n",
       " -0.0049453480169177055,\n",
       " -0.002554259728640318,\n",
       " 0.005667067598551512,\n",
       " -0.00313320429995656,\n",
       " -0.005262277089059353,\n",
       " -0.014949008822441101,\n",
       " -0.010499450378119946,\n",
       " 0.024161916226148605,\n",
       " -0.006708853878080845,\n",
       " 0.0017368338303640485,\n",
       " -0.005368965677917004,\n",
       " 0.01600334607064724,\n",
       " 0.011114480905234814,\n",
       " -0.005293656140565872,\n",
       " -0.023408817127346992,\n",
       " 0.001091208541765809,\n",
       " 0.016806650906801224,\n",
       " -0.0033512890804558992,\n",
       " 0.006482924334704876,\n",
       " 0.010022488422691822,\n",
       " 0.01188013143837452,\n",
       " 0.002060038736090064,\n",
       " 0.0261074211448431,\n",
       " 0.027136655524373055,\n",
       " 0.0009562784107401967,\n",
       " 0.018162230029702187,\n",
       " -0.008271533995866776,\n",
       " 0.0046127294190227985,\n",
       " 0.010901102796196938,\n",
       " 0.0008856754284352064,\n",
       " -0.017396578565239906,\n",
       " -0.008334292098879814,\n",
       " 0.013668741099536419,\n",
       " -0.008867736905813217,\n",
       " -0.013078813441097736,\n",
       " -0.013543223962187767,\n",
       " -0.01118979137390852,\n",
       " 0.015526384115219116,\n",
       " 0.005340724717825651,\n",
       " 0.007323884405195713,\n",
       " 0.034291092306375504,\n",
       " -0.021300140768289566,\n",
       " -0.006046754773706198,\n",
       " 0.01533810980618,\n",
       " -0.025115840137004852,\n",
       " 0.03168034926056862,\n",
       " -0.007989121600985527,\n",
       " 0.004211076535284519,\n",
       " 0.033462684601545334,\n",
       " -0.01589038223028183,\n",
       " 0.025831284001469612,\n",
       " -0.018212435767054558,\n",
       " -0.020823178812861443,\n",
       " -0.006407614331692457,\n",
       " -0.024111708626151085,\n",
       " 0.007399194408208132,\n",
       " -0.0038376653101295233,\n",
       " 0.0006789655308239162,\n",
       " -0.0003949845558963716,\n",
       " 0.015375764109194279,\n",
       " -0.016179069876670837,\n",
       " -0.00543172424659133,\n",
       " -0.01605355367064476,\n",
       " -0.022956958040595055,\n",
       " 0.014421839267015457,\n",
       " -0.007123058196157217,\n",
       " -0.008585324510931969,\n",
       " -0.01853877864778042,\n",
       " -0.011585167609155178,\n",
       " 0.0023063647095113993,\n",
       " 0.014359081164002419,\n",
       " -0.0007915380992926657,\n",
       " -0.013493017293512821,\n",
       " -0.04375503212213516,\n",
       " -0.0035332879051566124,\n",
       " 0.0031645833514630795,\n",
       " -0.02088593691587448,\n",
       " -0.025856386870145798,\n",
       " -0.027864649891853333,\n",
       " -0.013103916309773922,\n",
       " 0.004653522279113531,\n",
       " -0.02062235213816166,\n",
       " 0.011283928528428078,\n",
       " 0.001620731083676219,\n",
       " -0.004794728010892868,\n",
       " -0.008409601636230946,\n",
       " -0.01027979701757431,\n",
       " 0.003693321254104376,\n",
       " -0.012262956239283085,\n",
       " 0.011829924769699574,\n",
       " 0.007512159179896116,\n",
       " 0.008208774961531162,\n",
       " 0.005105381365865469,\n",
       " 0.02000732161104679,\n",
       " -0.01341770775616169,\n",
       " 0.01639244705438614,\n",
       " -0.005234035663306713,\n",
       " 0.005845928564667702,\n",
       " -0.0043052141554653645,\n",
       " -0.015400867909193039,\n",
       " -0.00713560963049531,\n",
       " -0.019894355908036232,\n",
       " 0.0318811759352684,\n",
       " 0.02094869501888752,\n",
       " 0.02638355642557144,\n",
       " 0.007794571109116077,\n",
       " -0.002428743289783597,\n",
       " 0.019768839702010155,\n",
       " 0.008886564522981644,\n",
       " 0.026960931718349457,\n",
       " 0.005485068541020155,\n",
       " -0.01896553486585617,\n",
       " -0.03388943895697594,\n",
       " -0.0003394827654119581,\n",
       " -0.002654672833159566,\n",
       " 0.005814549047499895,\n",
       " -0.008541394025087357,\n",
       " 0.010982688516378403,\n",
       " -0.012200198136270046,\n",
       " 0.009231734089553356,\n",
       " -0.006972438655793667,\n",
       " 0.008635531179606915,\n",
       " -0.018626639619469643,\n",
       " 0.034291092306375504,\n",
       " -0.0018529364606365561,\n",
       " 0.008874012157320976,\n",
       " -0.0032791171688586473,\n",
       " 0.03178076446056366,\n",
       " 0.015802519395947456,\n",
       " -0.016367344185709953,\n",
       " -0.002811568323522806,\n",
       " 0.003442288376390934,\n",
       " 0.025442183017730713,\n",
       " 0.01286543533205986,\n",
       " 0.02379791811108589,\n",
       " -0.00854767020791769,\n",
       " 0.003170859068632126,\n",
       " -0.0015109041705727577,\n",
       " 0.004829245153814554,\n",
       " -0.006056168582290411,\n",
       " 0.010537105612456799,\n",
       " -0.0008142879232764244,\n",
       " -0.004295800346881151,\n",
       " -0.010888551361858845,\n",
       " -0.01462266594171524,\n",
       " -0.01118979137390852,\n",
       " -0.0229193028062582,\n",
       " 0.014886249788105488,\n",
       " -0.004427592735737562,\n",
       " -0.0077004339545965195,\n",
       " 0.02869305945932865,\n",
       " -0.023082474246621132,\n",
       " 0.00279117189347744,\n",
       " -0.00857904925942421,\n",
       " 0.015112180262804031,\n",
       " 0.016530515626072884,\n",
       " 0.007537262514233589,\n",
       " 0.02563045732676983,\n",
       " 0.0012300611706450582,\n",
       " 0.009137596935033798,\n",
       " -0.011748339049518108,\n",
       " 0.02831650897860527,\n",
       " 0.0030829976312816143,\n",
       " -0.007480780128389597,\n",
       " 0.010907378979027271,\n",
       " 0.019756287336349487,\n",
       " 0.005256000906229019,\n",
       " -0.00048206158680841327,\n",
       " 0.0017023168038576841,\n",
       " -0.02018304355442524,\n",
       " -0.008961874060332775,\n",
       " -0.03150462731719017,\n",
       " 0.026810312643647194,\n",
       " 0.002643690211698413,\n",
       " -0.0003818445547949523,\n",
       " -0.025053082033991814,\n",
       " 0.02854243852198124,\n",
       " -0.04249986633658409,\n",
       " -0.0009570628753863275,\n",
       " 0.006802991032600403,\n",
       " -0.001838815864175558,\n",
       " -0.02623293735086918,\n",
       " -0.0073678153567016125,\n",
       " -0.0038972855545580387,\n",
       " -0.007242298685014248,\n",
       " -0.01681920327246189,\n",
       " 0.012589299120008945,\n",
       " 0.012539092451334,\n",
       " 0.002235761610791087,\n",
       " -0.017233407124876976,\n",
       " -0.002665655454620719,\n",
       " -0.008798702619969845,\n",
       " -0.01686941087245941,\n",
       " -0.0009288216824643314,\n",
       " 0.018224988132715225,\n",
       " -0.023383714258670807,\n",
       " 0.028667956590652466,\n",
       " 0.01077558659017086,\n",
       " 0.019015740603208542,\n",
       " -0.03238324075937271,\n",
       " 0.00019778645946644247,\n",
       " -0.0029323778580874205,\n",
       " 0.02242978848516941,\n",
       " -0.01781078428030014,\n",
       " -0.017082788050174713,\n",
       " -0.006551958154886961,\n",
       " 0.015225145034492016,\n",
       " -0.0015940588200464845,\n",
       " -0.00021671198192052543,\n",
       " 0.009131321683526039,\n",
       " -0.03193138167262077,\n",
       " -0.013367501087486744,\n",
       " 0.005271690431982279,\n",
       " 0.031429316848516464,\n",
       " -0.017685266211628914,\n",
       " -0.004135766997933388,\n",
       " -0.024099158123135567,\n",
       " -0.009394905529916286,\n",
       " -0.011917786672711372,\n",
       " -0.03253386169672012,\n",
       " 0.0005883583216927946,\n",
       " 0.0021698654163628817,\n",
       " -0.026458866894245148,\n",
       " -0.03100256249308586,\n",
       " -0.01694471947848797,\n",
       " 0.008993253111839294,\n",
       " 0.01181737333536148,\n",
       " 0.0009672610904090106,\n",
       " 0.004264421295374632,\n",
       " 0.015526384115219116,\n",
       " 0.050281886011362076,\n",
       " -0.015137283131480217,\n",
       " 0.011967993341386318,\n",
       " -0.0034517021849751472,\n",
       " 0.008535117842257023,\n",
       " -0.030475392937660217,\n",
       " 0.02706134505569935,\n",
       " 0.02298206090927124,\n",
       " -0.01410804782062769,\n",
       " 0.017020029947161674,\n",
       " -0.01547617744654417,\n",
       " 0.002665655454620719,\n",
       " -0.007763192057609558,\n",
       " 0.0077694677747786045,\n",
       " 0.019982218742370605,\n",
       " -0.0014858009526506066,\n",
       " 0.016630928963422775,\n",
       " 0.008277809247374535,\n",
       " -0.001334396656602621,\n",
       " 0.011679304763674736,\n",
       " 0.008616703562438488,\n",
       " -0.012608126737177372,\n",
       " 0.012394748628139496,\n",
       " -0.0010959154460579157,\n",
       " -0.001553265959955752,\n",
       " -0.03248365595936775,\n",
       " -0.02205323986709118,\n",
       " 0.0015830761985853314,\n",
       " -0.02655928023159504,\n",
       " 0.020911039784550667,\n",
       " -0.01341770775616169,\n",
       " -0.037855759263038635,\n",
       " 0.0015595417935401201,\n",
       " 0.0033010824117809534,\n",
       " 0.015451074577867985,\n",
       " -0.0002453454362694174,\n",
       " -0.020358767360448837,\n",
       " -0.010599863715469837,\n",
       " -0.011014067567884922,\n",
       " -0.0288687814027071,\n",
       " 0.015262799337506294,\n",
       " 0.006890852935612202,\n",
       " -0.02942105382680893,\n",
       " -0.0016301447758451104,\n",
       " 0.008171120658516884,\n",
       " 0.02568066492676735,\n",
       " 0.00891166739165783,\n",
       " -0.010543380863964558,\n",
       " -0.014409287832677364,\n",
       " 0.0010425709187984467,\n",
       " 0.007110506761819124,\n",
       " -0.02419956959784031,\n",
       " 0.008779875002801418,\n",
       " -0.005522723309695721,\n",
       " -0.0009884419851005077,\n",
       " 0.02799016609787941,\n",
       " -0.0201202854514122,\n",
       " -0.017283614724874496,\n",
       " -0.01649286039173603,\n",
       " -0.033688612282276154,\n",
       " -0.004929658491164446,\n",
       " -0.008666910231113434,\n",
       " 0.005459965206682682,\n",
       " 0.010267244651913643,\n",
       " 0.01231316290795803,\n",
       " -0.006696302443742752,\n",
       " 0.025140943005681038,\n",
       " 0.00019151064043398947,\n",
       " -0.0035175983794033527,\n",
       " -0.013518121093511581,\n",
       " -0.015702107921242714,\n",
       " -0.0003063385665882379,\n",
       " -0.012074681930243969,\n",
       " 0.01786099001765251,\n",
       " 0.004675487522035837,\n",
       " -0.01737147569656372,\n",
       " -0.019869253039360046,\n",
       " 0.01891532726585865,\n",
       " 0.0068343705497682095,\n",
       " -0.011767166666686535,\n",
       " -0.00042597143328748643,\n",
       " 0.005554102826863527,\n",
       " -0.008453532122075558,\n",
       " -0.021413104608654976,\n",
       " 0.01715809851884842,\n",
       " 0.02083572931587696,\n",
       " 0.010455519892275333,\n",
       " 0.021689241752028465,\n",
       " -0.010028763674199581,\n",
       " -0.03639977052807808,\n",
       " -0.01077558659017086,\n",
       " 0.001710161566734314,\n",
       " -0.0018749019363895059,\n",
       " 0.010298624634742737,\n",
       " 0.015852726995944977,\n",
       " 0.004320903681218624,\n",
       " 0.01083206944167614,\n",
       " -0.001799592049792409,\n",
       " -0.0009311751346103847,\n",
       " 0.0022451754193753004,\n",
       " -0.013016055338084698,\n",
       " 0.00920663122087717,\n",
       " -0.03117828443646431,\n",
       " -0.010875999927520752,\n",
       " 0.02088593691587448,\n",
       " 0.023295851424336433,\n",
       " -0.014070393517613411,\n",
       " 0.004634694661945105,\n",
       " 0.0022734166122972965,\n",
       " -0.020911039784550667,\n",
       " 0.004430730361491442,\n",
       " -0.009156424552202225,\n",
       " -0.030977457761764526,\n",
       " 0.007210919633507729,\n",
       " -0.028743265196681023,\n",
       " -0.0036337010096758604,\n",
       " -0.037579622119665146,\n",
       " -0.005880445241928101,\n",
       " -0.012294335290789604,\n",
       " -0.019756287336349487,\n",
       " -0.013078813441097736,\n",
       " 0.036198943853378296,\n",
       " -0.01929187774658203,\n",
       " -0.023446472361683846,\n",
       " -0.0342157818377018,\n",
       " -0.028291406109929085,\n",
       " -0.019442496821284294,\n",
       " 0.03007373958826065,\n",
       " -0.016643481329083443,\n",
       " 0.021977929398417473,\n",
       " -0.003978871274739504,\n",
       " 0.01715809851884842,\n",
       " 0.011547512374818325,\n",
       " -0.016467757523059845,\n",
       " -0.016342241317033768,\n",
       " -0.003439150517806411,\n",
       " 0.010512001812458038,\n",
       " 0.022128548473119736,\n",
       " 0.0159405879676342,\n",
       " 0.24239735305309296,\n",
       " -0.0026342764031141996,\n",
       " 0.010819517076015472,\n",
       " 0.016354791820049286,\n",
       " 0.019392291083931923,\n",
       " 0.01022331416606903,\n",
       " 0.020772971212863922,\n",
       " -0.008629255928099155,\n",
       " 0.007938914932310581,\n",
       " 0.022442340850830078,\n",
       " -0.00918152742087841,\n",
       " -0.017283614724874496,\n",
       " -0.0004004758957307786,\n",
       " 0.0017305579967796803,\n",
       " 0.008660634979605675,\n",
       " -0.021237382665276527,\n",
       " -0.024601222947239876,\n",
       " -0.005676480941474438,\n",
       " -0.040767740458250046,\n",
       " -0.026810312643647194,\n",
       " 0.009526697918772697,\n",
       " -0.015413419343531132,\n",
       " -0.002908843569457531,\n",
       " -0.005265414714813232,\n",
       " 0.02721196413040161,\n",
       " -0.007851053960621357,\n",
       " -0.028718162328004837,\n",
       " -0.011716959998011589,\n",
       " -0.0009476491250097752,\n",
       " -0.008102086372673512,\n",
       " -0.004675487522035837,\n",
       " -0.015137283131480217,\n",
       " 0.01063751894980669,\n",
       " -0.0023926571011543274,\n",
       " -0.003599184099584818,\n",
       " -0.005607447121292353,\n",
       " 0.025216253474354744,\n",
       " -0.005673343315720558,\n",
       " -0.0034579781349748373,\n",
       " 0.011911510489881039,\n",
       " -0.0019204015843570232,\n",
       " 0.0043962132185697556,\n",
       " -0.016681134700775146,\n",
       " 0.009106217883527279,\n",
       " -0.0026672245003283024,\n",
       " 0.011679304763674736,\n",
       " ...]"
      ]
     },
     "execution_count": 41,
     "metadata": {},
     "output_type": "execute_result"
    }
   ],
   "source": [
    "embed"
   ]
  },
  {
   "cell_type": "code",
   "execution_count": 18,
   "id": "699aaaf9",
   "metadata": {
    "height": 30
   },
   "outputs": [
    {
     "name": "stdout",
     "output_type": "stream",
     "text": [
      "1536\n"
     ]
    }
   ],
   "source": [
    "print(len(embed))"
   ]
  },
  {
   "cell_type": "code",
   "execution_count": 19,
   "id": "9d00d346",
   "metadata": {
    "height": 30
   },
   "outputs": [
    {
     "name": "stdout",
     "output_type": "stream",
     "text": [
      "[-0.02199048176407814, 0.006746508646756411, -0.018174780532717705, -0.03918623551726341, -0.01404528971761465]\n"
     ]
    }
   ],
   "source": [
    "print(embed[:5])"
   ]
  },
  {
   "cell_type": "code",
   "execution_count": 20,
   "id": "27ad0bb0",
   "metadata": {
    "height": 81
   },
   "outputs": [],
   "source": [
    "db = DocArrayInMemorySearch.from_documents(\n",
    "    docs, \n",
    "    embeddings\n",
    ")"
   ]
  },
  {
   "cell_type": "code",
   "execution_count": 42,
   "id": "0bc9e2d3",
   "metadata": {
    "height": 30
   },
   "outputs": [
    {
     "data": {
      "text/plain": [
       "<langchain.vectorstores.docarray.in_memory.DocArrayInMemorySearch at 0x7faad35466d0>"
      ]
     },
     "execution_count": 42,
     "metadata": {},
     "output_type": "execute_result"
    }
   ],
   "source": [
    "db"
   ]
  },
  {
   "cell_type": "code",
   "execution_count": 21,
   "id": "0329bfd5",
   "metadata": {
    "height": 30
   },
   "outputs": [],
   "source": [
    "query = \"Please suggest a shirt with sunblocking\""
   ]
  },
  {
   "cell_type": "code",
   "execution_count": 22,
   "id": "7909c6b7",
   "metadata": {
    "height": 30
   },
   "outputs": [],
   "source": [
    "docs = db.similarity_search(query)"
   ]
  },
  {
   "cell_type": "code",
   "execution_count": 43,
   "id": "e3fdcf23",
   "metadata": {
    "height": 30
   },
   "outputs": [
    {
     "data": {
      "text/plain": [
       "[Document(page_content=': 255\\nname: Sun Shield Shirt by\\ndescription: \"Block the sun, not the fun – our high-performance sun shirt is guaranteed to protect from harmful UV rays. \\n\\nSize & Fit: Slightly Fitted: Softly shapes the body. Falls at hip.\\n\\nFabric & Care: 78% nylon, 22% Lycra Xtra Life fiber. UPF 50+ rated – the highest rated sun protection possible. Handwash, line dry.\\n\\nAdditional Features: Wicks moisture for quick-drying comfort. Fits comfortably over your favorite swimsuit. Abrasion resistant for season after season of wear. Imported.\\n\\nSun Protection That Won\\'t Wear Off\\nOur high-performance fabric provides SPF 50+ sun protection, blocking 98% of the sun\\'s harmful rays. This fabric is recommended by The Skin Cancer Foundation as an effective UV protectant.', metadata={'source': 'OutdoorClothingCatalog_1000.csv', 'row': 255}),\n",
       " Document(page_content=\": 374\\nname: Men's Plaid Tropic Shirt, Short-Sleeve\\ndescription: Our Ultracomfortable sun protection is rated to UPF 50+, helping you stay cool and dry. Originally designed for fishing, this lightest hot-weather shirt offers UPF 50+ coverage and is great for extended travel. SunSmart technology blocks 98% of the sun's harmful UV rays, while the high-performance fabric is wrinkle-free and quickly evaporates perspiration. Made with 52% polyester and 48% nylon, this shirt is machine washable and dryable. Additional features include front and back cape venting, two front bellows pockets and an imported design. With UPF 50+ coverage, you can limit sun exposure and feel secure with the highest rated sun protection available.\", metadata={'source': 'OutdoorClothingCatalog_1000.csv', 'row': 374}),\n",
       " Document(page_content=\": 535\\nname: Men's TropicVibe Shirt, Short-Sleeve\\ndescription: This Men’s sun-protection shirt with built-in UPF 50+ has the lightweight feel you want and the coverage you need when the air is hot and the UV rays are strong. Size & Fit: Traditional Fit: Relaxed through the chest, sleeve and waist. Fabric & Care: Shell: 71% Nylon, 29% Polyester. Lining: 100% Polyester knit mesh. UPF 50+ rated – the highest rated sun protection possible. Machine wash and dry. Additional Features: Wrinkle resistant. Front and back cape venting lets in cool breezes. Two front bellows pockets. Imported.\\n\\nSun Protection That Won't Wear Off: Our high-performance fabric provides SPF 50+ sun protection, blocking 98% of the sun's harmful rays.\", metadata={'source': 'OutdoorClothingCatalog_1000.csv', 'row': 535}),\n",
       " Document(page_content=\": 618\\nname: Men's Tropical Plaid Short-Sleeve Shirt\\ndescription: Our lightest hot-weather shirt is rated UPF 50+ for superior protection from the sun's UV rays. With a traditional fit that is relaxed through the chest, sleeve, and waist, this fabric is made of 100% polyester and is wrinkle-resistant. With front and back cape venting that lets in cool breezes and two front bellows pockets, this shirt is imported and provides the highest rated sun protection possible. \\n\\nSun Protection That Won't Wear Off. Our high-performance fabric provides SPF 50+ sun protection, blocking 98% of the sun's harmful rays.\", metadata={'source': 'OutdoorClothingCatalog_1000.csv', 'row': 618})]"
      ]
     },
     "execution_count": 43,
     "metadata": {},
     "output_type": "execute_result"
    }
   ],
   "source": [
    "docs"
   ]
  },
  {
   "cell_type": "code",
   "execution_count": 23,
   "id": "43321853",
   "metadata": {
    "height": 30
   },
   "outputs": [
    {
     "data": {
      "text/plain": [
       "4"
      ]
     },
     "execution_count": 23,
     "metadata": {},
     "output_type": "execute_result"
    }
   ],
   "source": [
    "len(docs)"
   ]
  },
  {
   "cell_type": "code",
   "execution_count": 24,
   "id": "6eba90b5",
   "metadata": {
    "height": 30
   },
   "outputs": [
    {
     "data": {
      "text/plain": [
       "Document(page_content=': 255\\nname: Sun Shield Shirt by\\ndescription: \"Block the sun, not the fun – our high-performance sun shirt is guaranteed to protect from harmful UV rays. \\n\\nSize & Fit: Slightly Fitted: Softly shapes the body. Falls at hip.\\n\\nFabric & Care: 78% nylon, 22% Lycra Xtra Life fiber. UPF 50+ rated – the highest rated sun protection possible. Handwash, line dry.\\n\\nAdditional Features: Wicks moisture for quick-drying comfort. Fits comfortably over your favorite swimsuit. Abrasion resistant for season after season of wear. Imported.\\n\\nSun Protection That Won\\'t Wear Off\\nOur high-performance fabric provides SPF 50+ sun protection, blocking 98% of the sun\\'s harmful rays. This fabric is recommended by The Skin Cancer Foundation as an effective UV protectant.', metadata={'source': 'OutdoorClothingCatalog_1000.csv', 'row': 255})"
      ]
     },
     "execution_count": 24,
     "metadata": {},
     "output_type": "execute_result"
    }
   ],
   "source": [
    "docs[0]"
   ]
  },
  {
   "cell_type": "code",
   "execution_count": 25,
   "id": "c0c3596e",
   "metadata": {
    "height": 30
   },
   "outputs": [],
   "source": [
    "retriever = db.as_retriever()"
   ]
  },
  {
   "cell_type": "code",
   "execution_count": 44,
   "id": "7dda89d8",
   "metadata": {
    "height": 30
   },
   "outputs": [
    {
     "data": {
      "text/plain": [
       "VectorStoreRetriever(vectorstore=<langchain.vectorstores.docarray.in_memory.DocArrayInMemorySearch object at 0x7faad35466d0>, search_type='similarity', search_kwargs={})"
      ]
     },
     "execution_count": 44,
     "metadata": {},
     "output_type": "execute_result"
    }
   ],
   "source": [
    "retriever"
   ]
  },
  {
   "cell_type": "code",
   "execution_count": 45,
   "id": "0625f5e8",
   "metadata": {
    "height": 30
   },
   "outputs": [],
   "source": [
    "llm = ChatOpenAI(temperature = 0.0, model=llm_model)"
   ]
  },
  {
   "cell_type": "code",
   "execution_count": 46,
   "id": "a573f58a",
   "metadata": {
    "height": 47
   },
   "outputs": [],
   "source": [
    "qdocs = \"\".join([docs[i].page_content for i in range(len(docs))])\n"
   ]
  },
  {
   "cell_type": "code",
   "execution_count": 47,
   "id": "d01b85a3",
   "metadata": {
    "height": 30
   },
   "outputs": [
    {
     "data": {
      "text/plain": [
       "': 255\\nname: Sun Shield Shirt by\\ndescription: \"Block the sun, not the fun – our high-performance sun shirt is guaranteed to protect from harmful UV rays. \\n\\nSize & Fit: Slightly Fitted: Softly shapes the body. Falls at hip.\\n\\nFabric & Care: 78% nylon, 22% Lycra Xtra Life fiber. UPF 50+ rated – the highest rated sun protection possible. Handwash, line dry.\\n\\nAdditional Features: Wicks moisture for quick-drying comfort. Fits comfortably over your favorite swimsuit. Abrasion resistant for season after season of wear. Imported.\\n\\nSun Protection That Won\\'t Wear Off\\nOur high-performance fabric provides SPF 50+ sun protection, blocking 98% of the sun\\'s harmful rays. This fabric is recommended by The Skin Cancer Foundation as an effective UV protectant.: 374\\nname: Men\\'s Plaid Tropic Shirt, Short-Sleeve\\ndescription: Our Ultracomfortable sun protection is rated to UPF 50+, helping you stay cool and dry. Originally designed for fishing, this lightest hot-weather shirt offers UPF 50+ coverage and is great for extended travel. SunSmart technology blocks 98% of the sun\\'s harmful UV rays, while the high-performance fabric is wrinkle-free and quickly evaporates perspiration. Made with 52% polyester and 48% nylon, this shirt is machine washable and dryable. Additional features include front and back cape venting, two front bellows pockets and an imported design. With UPF 50+ coverage, you can limit sun exposure and feel secure with the highest rated sun protection available.: 535\\nname: Men\\'s TropicVibe Shirt, Short-Sleeve\\ndescription: This Men’s sun-protection shirt with built-in UPF 50+ has the lightweight feel you want and the coverage you need when the air is hot and the UV rays are strong. Size & Fit: Traditional Fit: Relaxed through the chest, sleeve and waist. Fabric & Care: Shell: 71% Nylon, 29% Polyester. Lining: 100% Polyester knit mesh. UPF 50+ rated – the highest rated sun protection possible. Machine wash and dry. Additional Features: Wrinkle resistant. Front and back cape venting lets in cool breezes. Two front bellows pockets. Imported.\\n\\nSun Protection That Won\\'t Wear Off: Our high-performance fabric provides SPF 50+ sun protection, blocking 98% of the sun\\'s harmful rays.: 618\\nname: Men\\'s Tropical Plaid Short-Sleeve Shirt\\ndescription: Our lightest hot-weather shirt is rated UPF 50+ for superior protection from the sun\\'s UV rays. With a traditional fit that is relaxed through the chest, sleeve, and waist, this fabric is made of 100% polyester and is wrinkle-resistant. With front and back cape venting that lets in cool breezes and two front bellows pockets, this shirt is imported and provides the highest rated sun protection possible. \\n\\nSun Protection That Won\\'t Wear Off. Our high-performance fabric provides SPF 50+ sun protection, blocking 98% of the sun\\'s harmful rays.'"
      ]
     },
     "execution_count": 47,
     "metadata": {},
     "output_type": "execute_result"
    }
   ],
   "source": [
    "qdocs"
   ]
  },
  {
   "cell_type": "code",
   "execution_count": 48,
   "id": "14682d95",
   "metadata": {
    "height": 64
   },
   "outputs": [],
   "source": [
    "response = llm.call_as_llm(f\"{qdocs} Question: Please list all your \\\n",
    "shirts with sun protection in a table in markdown and summarize each one.\") \n"
   ]
  },
  {
   "cell_type": "code",
   "execution_count": 49,
   "id": "ef4489f5",
   "metadata": {
    "height": 30
   },
   "outputs": [
    {
     "data": {
      "text/plain": [
       "'| Name                           | Description                                                                                                                                                                                                                                                                                                                                                                                                                                                                                                                                                                                                                                                                                                                                                                                                                                                                                                                                                                                                                                                                                                                                                                                                                                                                                                                                                                                                                                                                                                                                                                                                                                                                                                                                                                                                                                                                                                                                                                                                                                                                                                                                                                                                                                                                                                                                                                                                                                                                                                                                                                                                                                                                                                                                                                                                                                                                                                                                                                                                                                                                                                                                                                                                                                                                                                                                                                                                                                                                                                                                                                                                                                                                                                                                                                                                                                                                                                                                                                                                                                                                                                                                                                                                                                                                                                                                                                                                                                                                                                                                                                                                                                                                                                                                                                                                                                                                                                                                                                                                                                                                                                                                                                                                                                                                                                                                                                                                                                                                                                                                                                                                                                                                                                                                                                                                                                                                                                                                                                                                                                                                                                                                                                                                                                                                                                                                                                                                                                                                                                                                                                                                                                                                                                                                                                                                                                                                                                                                                                                                                                                                                                                                                                                                                                                                                                                                                                                                                                                                                                                                                                                                                                                                                                                                                                                                                                                                                                                                                                                                                                                                                                                                                                                                                                                                                                                                                                                                                                                                                                                                                                                                                                                                                                                                                                                                                                                                                                                                                                                                                                                                                                                                                                                                                                                                                                                                                                                                                                                                                                                                                                                                                                                                                                                                                                                                                                                                                                                                                                                                                                                                                                                                                                                                                                                                                                                                                                                                                                                                                                                                                                                                                                                                                                                                                                                                                                                                                                                                                                                                                                                                                                                                                                                                                                                                                                                                                                                                                                                                                                                                                                                                                                                                                                                                                                                                                                                                                                                                                                                                                                                                                                                                                                                                                                                                                                                                                                                                                                                                                                                                                                                                                                                                                                                                                                                                                                                                                                                                                                                                                                                                                                                                                                                                                                                                                                                                '"
      ]
     },
     "execution_count": 49,
     "metadata": {},
     "output_type": "execute_result"
    }
   ],
   "source": [
    "response"
   ]
  },
  {
   "cell_type": "code",
   "execution_count": 29,
   "id": "8bba545b",
   "metadata": {
    "height": 30
   },
   "outputs": [
    {
     "data": {
      "text/markdown": [
       "| Name                           | Description                                                                                                                                                                                                                                                                                                                                                                                                                                                                                                                                                                                                                                                                                                                                                                                                                                                                                                                                                                                                                                                                                                                                                                                                                                                                                                                                                                                                                                                                                                                                                                                                                                                                                                                                                                                                                                                                                                                                                                                                                                                                                                                                                                                                                                                                                                                                                                                                                                                                                                                                                                                                                                                                                                                                                                                                                                                                                                                                                                                                                                                                                                                                                                                                                                                                                                                                                                                                                                                                                                                                                                                                                                                                                                                                                                                                                                                                                                                                                                                                                                                                                                                                                                                                                                                                                                                                                                                                                                                                                                                                                                                                                                                                                                                                                                                                                                                                                                                                                                                                                                                                                                                                                                                                                                                                                                                                                                                                                                                                                                                                                                                                                                                                                                                                                                                                                                                                                                                                                                                                                                                                                                                                                                                                                                                                                                                                                                                                                                                                                                                                                                                                                                                                                                                                                                                                                                                                                                                                                                                                                                                                                                                                                                                                                                                                                                                                                                                                                                                                                                                                                                                                                                                                                                                                                                                                                                                                                                                                                                                                                                                                                                                                                                                                                                                                                                                                                                                                                                                                                                                                                                                                                                                                                                                                                                                                                                                                                                                                                                                                                                                                                                                                                                                                                                                                                                                                                                                                                                                                                                                                                                                                                                                                                                                                                                                                                                                                                                                                                                                                                                                                                                                                                                                                                                                                                                                                                                                                                                                                                                                                                                                                                                                                                                                                                                                                                                                                                                                                                                                                                                                                                                                                                                                                                                                                                                                                                                                                                                                                                                                                                                                                                                                                                                                                                                                                                                                                                                                                                                                                                                                                                                                                                                                                                                                                                                                                                                                                                                                                                                                                                                                                                                                                                                                                                                                                                                                                                                                                                                                                                                                                                                                                                                                                                                                                                                                                "
      ],
      "text/plain": [
       "<IPython.core.display.Markdown object>"
      ]
     },
     "metadata": {},
     "output_type": "display_data"
    }
   ],
   "source": [
    "display(Markdown(response))"
   ]
  },
  {
   "cell_type": "code",
   "execution_count": 30,
   "id": "32c94d22",
   "metadata": {
    "height": 115
   },
   "outputs": [],
   "source": [
    "qa_stuff = RetrievalQA.from_chain_type(\n",
    "    llm=llm, \n",
    "    chain_type=\"stuff\", \n",
    "    retriever=retriever, \n",
    "    verbose=True\n",
    ")"
   ]
  },
  {
   "cell_type": "code",
   "execution_count": 50,
   "id": "329c0627",
   "metadata": {
    "height": 30
   },
   "outputs": [
    {
     "data": {
      "text/plain": [
       "RetrievalQA(memory=None, callbacks=None, callback_manager=None, verbose=True, combine_documents_chain=StuffDocumentsChain(memory=None, callbacks=None, callback_manager=None, verbose=False, input_key='input_documents', output_key='output_text', llm_chain=LLMChain(memory=None, callbacks=None, callback_manager=None, verbose=False, prompt=ChatPromptTemplate(input_variables=['context', 'question'], output_parser=None, partial_variables={}, messages=[SystemMessagePromptTemplate(prompt=PromptTemplate(input_variables=['context'], output_parser=None, partial_variables={}, template=\"Use the following pieces of context to answer the users question. \\nIf you don't know the answer, just say that you don't know, don't try to make up an answer.\\n----------------\\n{context}\", template_format='f-string', validate_template=True), additional_kwargs={}), HumanMessagePromptTemplate(prompt=PromptTemplate(input_variables=['question'], output_parser=None, partial_variables={}, template='{question}', template_format='f-string', validate_template=True), additional_kwargs={})]), llm=ChatOpenAI(verbose=False, callbacks=None, callback_manager=None, client=<class 'openai.api_resources.chat_completion.ChatCompletion'>, model_name='gpt-3.5-turbo', temperature=0.0, model_kwargs={}, openai_api_key=None, openai_api_base=None, openai_organization=None, request_timeout=None, max_retries=6, streaming=False, n=1, max_tokens=None), output_key='text'), document_prompt=PromptTemplate(input_variables=['page_content'], output_parser=None, partial_variables={}, template='{page_content}', template_format='f-string', validate_template=True), document_variable_name='context', document_separator='\\n\\n'), input_key='query', output_key='result', return_source_documents=False, retriever=VectorStoreRetriever(vectorstore=<langchain.vectorstores.docarray.in_memory.DocArrayInMemorySearch object at 0x7faad35466d0>, search_type='similarity', search_kwargs={}))"
      ]
     },
     "execution_count": 50,
     "metadata": {},
     "output_type": "execute_result"
    }
   ],
   "source": [
    "qa_stuff"
   ]
  },
  {
   "cell_type": "code",
   "execution_count": 31,
   "id": "e4769316",
   "metadata": {
    "height": 47
   },
   "outputs": [],
   "source": [
    "query =  \"Please list all your shirts with sun protection in a table \\\n",
    "in markdown and summarize each one.\""
   ]
  },
  {
   "cell_type": "code",
   "execution_count": 32,
   "id": "1fc3c2f3",
   "metadata": {
    "height": 30
   },
   "outputs": [
    {
     "name": "stdout",
     "output_type": "stream",
     "text": [
      "\n",
      "\n",
      "\u001b[1m> Entering new RetrievalQA chain...\u001b[0m\n",
      "\n",
      "\u001b[1m> Finished chain.\u001b[0m\n"
     ]
    }
   ],
   "source": [
    "response = qa_stuff.run(query)"
   ]
  },
  {
   "cell_type": "code",
   "execution_count": 51,
   "id": "ea7ccef0",
   "metadata": {
    "height": 30
   },
   "outputs": [
    {
     "data": {
      "text/plain": [
       "'| Name                           | Description                                                                                                                                                                                                                                                                                                                                                                                                                                                                                                                                                                                                                                                                                                                                                                                                                                                                                                                                                                                                                                                                                                                                                                                                                                                                                                                                                                                                                                                                                                                                                                                                                                                                                                                                                                                                                                                                                                                                                                                                                                                                                                                                                                                                                                                                                                                                                                                                                                                                                                                                                                                                                                                                                                                                                                                                                                                                                                                                                                                                                                                                                                                                                                                                                                                                                                                                                                                                                                                                                                                                                                                                                                                                                                                                                                                                                                                                                                                                                                                                                                                                                                                                                                                                                                                                                                                                                                                                                                                                                                                                                                                                                                                                                                                                                                                                                                                                                                                                                                                                                                                                                                                                                                                                                                                                                                                                                                                                                                                                                                                                                                                                                                                                                                                                                                                                                                                                                                                                                                                                                                                                                                                                                                                                                                                                                                                                                                                                                                                                                                                                                                                                                                                                                                                                                                                                                                                                                                                                                                                                                                                                                                                                                                                                                                                                                                                                                                                                                                                                                                                                                                                                                                                                                                                                                                                                                                                                                                                                                                                                                                                                                                                                                                                                                                                                                                                                                                                                                                                                                                                                                                                                                                                                                                                                                                                                                                                                                                                                                                                                                                                                                                                                                                                                                                                                                                                                                                                                                                                                                                                                                                                                                                                                                                                                                                                                                                                                                                                                                                                                                                                                                                                                                                                                                                                                                                                                                                                                                                                                                                                                                                                                                                                                                                                                                                                                                                                                                                                                                                                                                                                                                                                                                                                                                                                                                                                                                                                                                                                                                                                                                                                                                                                                                                                                                                                                                                                                                                                                                                                                                                                                                                                                                                                                                                                                                                                                                                                                                                                                                                                                                                                                                                                                                                                                                                                                                                                                                                                                                                                                                                                                                                                                                                                                                                                                                                                                '"
      ]
     },
     "execution_count": 51,
     "metadata": {},
     "output_type": "execute_result"
    }
   ],
   "source": [
    "response"
   ]
  },
  {
   "cell_type": "code",
   "execution_count": 33,
   "id": "fba1a5db",
   "metadata": {
    "height": 30
   },
   "outputs": [
    {
     "data": {
      "text/markdown": [
       "| Shirt Name                           | Description                                                                                                                                                                                                                                                                                                                                                                                                                                                                                                                                                                                                                                                                                                                                                                                                                                                                                                                                                                                                                                                                                                                                                                                                                                                                                                                                                                                                                                                                                                                                                                                                                                                                                                                                                                                                                                                                                                                                                                                                                                                                                                                                                                                                                                                                                                                                                                                                                                                                                                                                                                                                                                                                                                                                                                                                                                                                                                                                                                                                                                                                                                                                                                                                                                                                                                                                                                                                                                                                                                                                                                                                                                                                                                                                                                                                                                                                                                                                                                                                                                                                                                                                                                                                                                                                                                                                                                                                                                                                                                                                                                                                                                                                                                                                                                                                                                                                                                                                                                                                                                                                                                                                                                                                                                                                                                                                                                                                                                                                                                                                                                                                                                                                                                                                                                                                                                                                                                                                                                                                                                                                                                                                                                                                                                                                                                                                                                                                                                                                                                                                                                                                                                                                                                                                                                                                                                                                                                                                                                                                                                                                                                                                                                                                                                                                                                                                                                                                                                                                                                                                                                                                                                                                                                                                                                                                                                                                                                                                                                                                                                                                                                                                                                                                                                                                                                                                                                                                                                                                                                                                                                                                                                                                                                                                                                                                                                                                                                                                                                                                                                                                                                                                                                                                                                                                                                                                                                                                                                                                                                                                                                                                                                                                                                                                                                                                                                                                                                                                                                                                                                                                                                                                                                                                                                                                                                                                                                                                                                                                                                                                                                                                                                                                                                                                                                                                                                                                                                                                                                                                                                                                                                                                                                                                                                                                                                                                                                                                                                                                                                                                                                                                                                                                                                                                                                                                                                                                                                                                                                                                                                                                                                                                                                                                                                                                                                                                                                                                                                                                                                                                                                                                                                                                                                                                                                                                                                                                                                                                                                                                                                                                                                                                                                                                                                                                                                                                "
      ],
      "text/plain": [
       "<IPython.core.display.Markdown object>"
      ]
     },
     "metadata": {},
     "output_type": "display_data"
    }
   ],
   "source": [
    "display(Markdown(response))"
   ]
  },
  {
   "cell_type": "code",
   "execution_count": 34,
   "id": "500ec062",
   "metadata": {
    "height": 30
   },
   "outputs": [],
   "source": [
    "response = index.query(query, llm=llm)"
   ]
  },
  {
   "cell_type": "code",
   "execution_count": 35,
   "id": "2cffb19f",
   "metadata": {
    "height": 81
   },
   "outputs": [],
   "source": [
    "index = VectorstoreIndexCreator(\n",
    "    vectorstore_cls=DocArrayInMemorySearch,\n",
    "    embedding=embeddings,\n",
    ").from_loaders([loader])"
   ]
  },
  {
   "cell_type": "markdown",
   "id": "b325340f-26b4-4c7e-81da-da4b895ae058",
   "metadata": {},
   "source": [
    "Reminder: Download your notebook to you local computer to save your work."
   ]
  },
  {
   "cell_type": "code",
   "execution_count": 36,
   "id": "a9b58916",
   "metadata": {
    "height": 30
   },
   "outputs": [
    {
     "data": {
      "text/plain": [
       "VectorStoreIndexWrapper(vectorstore=<langchain.vectorstores.docarray.in_memory.DocArrayInMemorySearch object at 0x7faad27044f0>)"
      ]
     },
     "execution_count": 36,
     "metadata": {},
     "output_type": "execute_result"
    }
   ],
   "source": [
    "index"
   ]
  },
  {
   "cell_type": "code",
   "execution_count": null,
   "id": "d590b337",
   "metadata": {
    "height": 30
   },
   "outputs": [],
   "source": []
  },
  {
   "cell_type": "code",
   "execution_count": null,
   "id": "b2cb587c",
   "metadata": {
    "height": 30
   },
   "outputs": [],
   "source": []
  },
  {
   "cell_type": "code",
   "execution_count": null,
   "id": "1ec249f1",
   "metadata": {
    "height": 30
   },
   "outputs": [],
   "source": []
  },
  {
   "cell_type": "code",
   "execution_count": null,
   "id": "9d64f166",
   "metadata": {
    "height": 30
   },
   "outputs": [],
   "source": []
  },
  {
   "cell_type": "code",
   "execution_count": null,
   "id": "21322e7e",
   "metadata": {
    "height": 30
   },
   "outputs": [],
   "source": []
  }
 ],
 "metadata": {
  "kernelspec": {
   "display_name": "Python 3 (ipykernel)",
   "language": "python",
   "name": "python3"
  },
  "language_info": {
   "codemirror_mode": {
    "name": "ipython",
    "version": 3
   },
   "file_extension": ".py",
   "mimetype": "text/x-python",
   "name": "python",
   "nbconvert_exporter": "python",
   "pygments_lexer": "ipython3",
   "version": "3.9.19"
  }
 },
 "nbformat": 4,
 "nbformat_minor": 5
}
